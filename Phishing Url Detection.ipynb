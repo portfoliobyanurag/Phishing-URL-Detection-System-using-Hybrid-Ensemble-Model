{
 "cells": [
  {
   "cell_type": "code",
   "execution_count": 1,
   "id": "904fba29",
   "metadata": {},
   "outputs": [
    {
     "data": {
      "text/plain": [
       "1"
      ]
     },
     "execution_count": 1,
     "metadata": {},
     "output_type": "execute_result"
    }
   ],
   "source": [
    "import pandas as pd\n",
    "import numpy as np\n",
    "import whois\n",
    "from urllib.parse import urlencode\n",
    "from urllib.request import urlopen\n",
    "from urllib.parse import urlencode\n",
    "from urllib.request import urlopen\n",
    "\n",
    "from datetime import datetime\n",
    "def domainage(url):\n",
    "\n",
    "   \n",
    "\n",
    "    try:\n",
    "        domain_name = urlparse(url).netloc\n",
    "           #whois query \n",
    "        response= whois.whois(domain_name)\n",
    "#datetime.datetime.today()\n",
    "        #print(response.creation_date)\n",
    "        #print(\"The Domain name's:\", response.domain_name)\n",
    "        #print(\"Domain Created on: \", response.creation_date)\n",
    "        #print(\"Domain Expire date is:\", response.expiration_date)\n",
    "        date=response.creation_date\n",
    "        \n",
    "        datee=response.expiration_date\n",
    "        #print(type(date) is list)\n",
    "        if((type(datee) is list) or (type(date) is list)):\n",
    "            #print(\"bjheb\")\n",
    "            \n",
    "            if((type(datee) is list) and (type(date) is list)):\n",
    "                 #print(\"trur\")\n",
    "                 datee=datee[0].year\n",
    "                 date=date[0].year\n",
    "            \n",
    "            if((type(datee) is list) and ~(type(date) is list)):\n",
    "                 datee=datee[0].year\n",
    "                 date=date.year\n",
    "                 #print(datee)\n",
    "            if((type(date) is list) and ~(type(datee) is list)):\n",
    "                 date=date[0].year\n",
    "                 datee=datee.year\n",
    "                 #print(date)\n",
    "             \n",
    "           \n",
    "            \n",
    "            \n",
    "            ytd=datee - date\n",
    "            #print(ytd)\n",
    "            ytd=ytd*365\n",
    "            #print(ytd)\n",
    "            dtm=ytd/30\n",
    "          \n",
    "            if(dtm < 12):\n",
    "                return 1\n",
    "            else:\n",
    "                return 0\n",
    "        \n",
    "        else:\n",
    "            age = (response.expiration_date - response.creation_date).days \n",
    "           \n",
    "            if age<12:\n",
    "        \n",
    "                 return 1\n",
    "            else:\n",
    "                 return 0\n",
    "            \n",
    "                \n",
    "             \n",
    "        \n",
    "    \n",
    "    \n",
    "\n",
    "    #for invalid domain\n",
    "    except:\n",
    "       \n",
    "        return 1 #no domain found\n",
    "\n",
    "domainage(\"https://google.com\")"
   ]
  },
  {
   "cell_type": "code",
   "execution_count": 2,
   "id": "22af89f5",
   "metadata": {},
   "outputs": [
    {
     "name": "stdout",
     "output_type": "stream",
     "text": [
      "549338\n",
      "549338\n",
      "super1000.info/docs\n",
      "1\n",
      "average length of legitimate url is :\n",
      "\n",
      "\n",
      "45.7675122924535\n",
      "\n",
      "\n",
      "number of phishing urls : \n",
      "156414\n",
      "\n",
      "\n",
      "number of legitimate urls : \n",
      "392924\n"
     ]
    }
   ],
   "source": [
    "import pandas as pd\n",
    "import matplotlib.pyplot as mp\n",
    "import ipaddress\n",
    "import re\n",
    "from urllib.parse import urlparse\n",
    "from bs4 import BeautifulSoup\n",
    "import whois\n",
    "import urllib\n",
    "import urllib.request\n",
    "from datetime import datetime\n",
    "from tldextract import extract\n",
    "import requests\n",
    "import dns.resolver\n",
    "from urllib.parse import urlencode\n",
    "from urllib.request import urlopen\n",
    "\n",
    "col_list=[\"URL\",\"Label\"]\n",
    "c=0;\n",
    "g=0;\n",
    "urld=[]\n",
    "lens=0\n",
    "labeld=[]\n",
    "nol=0\n",
    "data0 = pd.read_csv(\"E:\\phishingdataset.csv\",usecols=col_list)\n",
    "for i in data0[\"URL\"]:\n",
    "         \n",
    "          c=c+1\n",
    "         \n",
    "          urld.append(i)\n",
    "   \n",
    "print(len(urld))\n",
    "for i in data0[\"Label\"]:\n",
    "    if i==\"bad\":\n",
    "        labeld.append(\"1\")\n",
    "    else:\n",
    "        labeld.append(\"0\")\n",
    "        \n",
    "print(len(labeld))\n",
    "for i in range(0,len(labeld)):\n",
    "    if labeld[i]==\"0\":\n",
    "        lens+=len(urld[i])\n",
    "        nol=nol+1\n",
    "        \n",
    "print(urld[0])\n",
    "print(labeld[0])\n",
    "print(\"average length of legitimate url is :\")\n",
    "print(\"\\n\");\n",
    "\n",
    "print(lens/nol)\n",
    "\n",
    "\n",
    "print(\"\\n\");\n",
    "print(\"number of phishing urls : \");\n",
    "print(549338-nol);\n",
    "print(\"\\n\");\n",
    "print(\"number of legitimate urls : \");\n",
    "print(nol);\n",
    "#data0.head()\n"
   ]
  },
  {
   "cell_type": "code",
   "execution_count": 3,
   "id": "adf48657",
   "metadata": {},
   "outputs": [
    {
     "name": "stdout",
     "output_type": "stream",
     "text": [
      "running\n",
      "66000\n"
     ]
    },
    {
     "ename": "NameError",
     "evalue": "name 'dnss' is not defined",
     "output_type": "error",
     "traceback": [
      "\u001b[1;31m---------------------------------------------------------------------------\u001b[0m",
      "\u001b[1;31mNameError\u001b[0m                                 Traceback (most recent call last)",
      "Input \u001b[1;32mIn [3]\u001b[0m, in \u001b[0;36m<cell line: 4>\u001b[1;34m()\u001b[0m\n\u001b[0;32m      8\u001b[0m url \u001b[38;5;241m=\u001b[39m urld[i]\n\u001b[0;32m      9\u001b[0m features \u001b[38;5;241m=\u001b[39m []\n\u001b[1;32m---> 14\u001b[0m features\u001b[38;5;241m.\u001b[39mappend(\u001b[43mdnss\u001b[49m(\u001b[38;5;124m\"\u001b[39m\u001b[38;5;124mhttps://\u001b[39m\u001b[38;5;124m\"\u001b[39m\u001b[38;5;241m+\u001b[39murl))               \n\u001b[0;32m     17\u001b[0m features\u001b[38;5;241m.\u001b[39mappend(labeld[i])\n\u001b[0;32m     18\u001b[0m extracted_features\u001b[38;5;241m.\u001b[39mappend(features)\n",
      "\u001b[1;31mNameError\u001b[0m: name 'dnss' is not defined"
     ]
    }
   ],
   "source": [
    "extracted_features = []\n",
    "label = 0\n",
    "print(\"running\")\n",
    "for i in range(66000,67500):\n",
    "           \n",
    "    print(i)\n",
    "    \n",
    "    url = urld[i]\n",
    "    features = []\n",
    "                                           \n",
    "                                                   \n",
    "    \n",
    "    \n",
    "    features.append(dnss(\"https://\"+url))               \n",
    "                                                                                                         \n",
    "      \n",
    "    features.append(labeld[i])\n",
    "    extracted_features.append(features)\n",
    "    print(\"\\n\\n\\n\")\n",
    "    \n",
    "print(\"completed\")"
   ]
  },
  {
   "cell_type": "markdown",
   "id": "e74308a1",
   "metadata": {},
   "source": []
  },
  {
   "cell_type": "code",
   "execution_count": 42,
   "id": "860381a3",
   "metadata": {},
   "outputs": [],
   "source": [
    "def haveAtSign(url):\n",
    "    if \"@\" in url:\n",
    "        at = 1    \n",
    "    else:\n",
    "        at = 0    \n",
    "    return at\n",
    "\n"
   ]
  },
  {
   "cell_type": "code",
   "execution_count": 43,
   "id": "8c82d28f",
   "metadata": {},
   "outputs": [
    {
     "data": {
      "text/plain": [
       "0"
      ]
     },
     "execution_count": 43,
     "metadata": {},
     "output_type": "execute_result"
    }
   ],
   "source": [
    "def url_of_anchor(url): \n",
    "         try:\n",
    "            SubDom, Dom, Suffix = extract(url) \n",
    "            websiteDom = Dom\n",
    "            opener = urllib.request.urlopen(url).read() \n",
    "            soup = BeautifulSoup(opener, 'lxml') \n",
    "            anchors = soup.findAll('a', href=True) \n",
    "            total = len(anchors) \n",
    "            linked_to_same = 0 \n",
    "            avg = 0 \n",
    "            for anchor in anchors:\n",
    "                SubDom, Dom, Suffix = extract(anchor['href']) \n",
    "                anchorDom = Dom \n",
    "                if(websiteDom==anchorDom or anchorDom==''):\n",
    "                     linked_to_same = linked_to_same + 1\n",
    "            linked_outside = total-linked_to_same \n",
    "            #print(linked_outside)\n",
    "            if(total!=0):\n",
    "                avg = linked_outside/total\n",
    "            if(avg<0.31):\n",
    "                return 0   #legitimate\n",
    "           \n",
    "            else:\n",
    "                return 1 #phishing\n",
    "         except:\n",
    "              return 1\n",
    "url_of_anchor(\"https://www.google.com\")"
   ]
  },
  {
   "cell_type": "code",
   "execution_count": 44,
   "id": "0808424b",
   "metadata": {},
   "outputs": [
    {
     "data": {
      "text/plain": [
       "0"
      ]
     },
     "execution_count": 44,
     "metadata": {},
     "output_type": "execute_result"
    }
   ],
   "source": [
    "def rightClick(url):\n",
    "    try:\n",
    "         response=requests.get(url)\n",
    "         #print(response.text)\n",
    "         if response == \"\":\n",
    "                 return 1\n",
    "         else:\n",
    "                 if re.findall(r\"event.button == 2\", response.text):\n",
    "                    return 1  #phishing\n",
    "                 else:\n",
    "                    return 0 #legitimate\n",
    "    except:\n",
    "       \n",
    "        return 1\n",
    "    \n",
    "rightClick(\"https://www.google.com\")"
   ]
  },
  {
   "cell_type": "code",
   "execution_count": 45,
   "id": "9e472778",
   "metadata": {},
   "outputs": [],
   "source": [
    "def request_url(url):\n",
    "    try:\n",
    "        SubDom, Dom, Suffix = extract(url) \n",
    "        websiteDom = Dom\n",
    "        opener = urllib.request.urlopen(url).read() \n",
    "        soup = BeautifulSoup(opener, 'lxml') \n",
    "        imgs = soup.findAll('img', src=True)\n",
    "        total = len(imgs)\n",
    "        linked_to_same = 0 \n",
    "        avg =0 \n",
    "        for image in imgs:\n",
    "            SubDom, Dom, Suffix = extract(image['src']) \n",
    "            imageDom = Dom \n",
    "            if(websiteDom==imageDom or imageDom==''):\n",
    "                   linked_to_same = linked_to_same + 1\n",
    "        vids = soup.findAll('video', src=True) \n",
    "        total = total + len(vids)\n",
    "        for video in vids:\n",
    "            SubDom, Dom, Suffix = extract(video['src'])\n",
    "            vidDom = Dom \n",
    "            if(websiteDom==vidDom or vidDom==''):\n",
    "                linked_to_same = linked_to_same + 1 \n",
    "        linked_outside = total-linked_to_same \n",
    "        if(total!=0): \n",
    "            avg = linked_outside/total\n",
    "        if(avg<0.22):\n",
    "             return 0 #leggitimate\n",
    "         \n",
    "        else:\n",
    "             return 1 #phishing\n",
    "    except:\n",
    "         #print(\"fg\")\n",
    "         return 1 #1 for error"
   ]
  },
  {
   "cell_type": "code",
   "execution_count": 46,
   "id": "ff08a239",
   "metadata": {},
   "outputs": [],
   "source": [
    "def getLength(url):\n",
    "    if len(url) < 54:\n",
    "        length = 0            \n",
    "    else:\n",
    "        length = 1            \n",
    "    return length"
   ]
  },
  {
   "cell_type": "code",
   "execution_count": 47,
   "id": "4be95aee",
   "metadata": {},
   "outputs": [
    {
     "data": {
      "text/plain": [
       "0"
      ]
     },
     "execution_count": 47,
     "metadata": {},
     "output_type": "execute_result"
    }
   ],
   "source": [
    "def redirection(url):\n",
    "    pos = url.rfind('//')\n",
    "    if pos > 5:\n",
    "        if pos > 6:\n",
    "            return 1\n",
    "        else:\n",
    "            return 0\n",
    "    else:\n",
    "        return 0\n",
    "redirection(\"https:hdnmj.com\")"
   ]
  },
  {
   "cell_type": "code",
   "execution_count": 48,
   "id": "072a005d",
   "metadata": {},
   "outputs": [
    {
     "data": {
      "text/plain": [
       "0"
      ]
     },
     "execution_count": 48,
     "metadata": {},
     "output_type": "execute_result"
    }
   ],
   "source": [
    "def httpDomain(url):\n",
    "    domain = urlparse(url).netloc\n",
    "    \n",
    "    if 'https' in domain:\n",
    "        return 1 #phishing\n",
    "    else:\n",
    "        return 0\n",
    "httpDomain(\"https:hdnmj.com\")   "
   ]
  },
  {
   "cell_type": "code",
   "execution_count": 49,
   "id": "91bb0cff",
   "metadata": {},
   "outputs": [],
   "source": [
    "def tinyURL(url):\n",
    "    shortening_services = r\"bit\\.ly|goo\\.gl|shorte\\.st|go2l\\.ink|x\\.co|ow\\.ly|t\\.co|tinyurl|tr\\.im|is\\.gd|cli\\.gs|\" \\\n",
    "                      r\"yfrog\\.com|migre\\.me|ff\\.im|tiny\\.cc|url4\\.eu|twit\\.ac|su\\.pr|twurl\\.nl|snipurl\\.com|\" \\\n",
    "                      r\"short\\.to|BudURL\\.com|ping\\.fm|post\\.ly|Just\\.as|bkite\\.com|snipr\\.com|fic\\.kr|loopt\\.us|\" \\\n",
    "                      r\"doiop\\.com|short\\.ie|kl\\.am|wp\\.me|rubyurl\\.com|om\\.ly|to\\.ly|bit\\.do|t\\.co|lnkd\\.in|db\\.tt|\" \\\n",
    "                      r\"qr\\.ae|adf\\.ly|goo\\.gl|bitly\\.com|cur\\.lv|tinyurl\\.com|ow\\.ly|bit\\.ly|ity\\.im|q\\.gs|is\\.gd|\" \\\n",
    "                      r\"po\\.st|bc\\.vc|twitthis\\.com|u\\.to|j\\.mp|buzurl\\.com|cutt\\.us|u\\.bb|yourls\\.org|x\\.co|\" \\\n",
    "                      r\"prettylinkpro\\.com|scrnch\\.me|filoops\\.info|vzturl\\.com|qr\\.net|1url\\.com|tweez\\.me|v\\.gd|\" \\\n",
    "                      r\"tr\\.im|link\\.zip\\.net\"\n",
    "    match=re.search(shortening_services,url)\n",
    "    if match:\n",
    "        return 1\n",
    "    else:\n",
    "        return 0"
   ]
  },
  {
   "cell_type": "code",
   "execution_count": 50,
   "id": "a3c4cd34",
   "metadata": {},
   "outputs": [],
   "source": [
    "def iframe(url):\n",
    "    try:\n",
    "        SubDom, Dom, Suffix = extract(url) \n",
    "        websiteDom = Dom\n",
    "        opener = urllib.request.urlopen(url).read() \n",
    "        soup = BeautifulSoup(opener, 'lxml') \n",
    "        iframes = soup.findAll('iframe', src=True)\n",
    "        total = len(iframes)\n",
    "        linked_to_same = 0 \n",
    "        avg =0 \n",
    "        for fr in iframes:\n",
    "            SubDom, Dom, Suffix = extract(fr['src']) \n",
    "            frDom = Dom \n",
    "            if(websiteDom==frDom or frDom==''):\n",
    "                   linked_to_same = linked_to_same + 1\n",
    "            \n",
    "        linked_outside = total-linked_to_same\n",
    "        \n",
    "        if(total!=0): \n",
    "            avg = linked_outside/total\n",
    "            #print(avg)\n",
    "        if(avg<0.22):\n",
    "             return 0 #leggitimate\n",
    "         \n",
    "        else:\n",
    "             return 1 #phishing\n",
    "    except:\n",
    "        #print(\"ndn\")\n",
    "        return 1\n",
    "        \n"
   ]
  },
  {
   "cell_type": "code",
   "execution_count": 52,
   "id": "f18bdf6a",
   "metadata": {},
   "outputs": [],
   "source": [
    "def prefixSuffix(url):\n",
    "    if '-' in urlparse(url).netloc:\n",
    "        return 1            # phishing\n",
    "    else:\n",
    "        return 0  "
   ]
  },
  {
   "cell_type": "code",
   "execution_count": 53,
   "id": "cb30efe4",
   "metadata": {},
   "outputs": [],
   "source": [
    "def dots(url):\n",
    "    domain = urlparse(url).netloc\n",
    "    #print(domain)\n",
    "    x=domain.count('.')\n",
    "    if x>3:\n",
    "        return 1\n",
    "    else:\n",
    "        return 0"
   ]
  },
  {
   "cell_type": "code",
   "execution_count": 54,
   "id": "81a8f121",
   "metadata": {},
   "outputs": [
    {
     "data": {
      "text/plain": [
       "0"
      ]
     },
     "execution_count": 54,
     "metadata": {},
     "output_type": "execute_result"
    }
   ],
   "source": [
    "def mailto(url):\n",
    "   \n",
    "      \n",
    "    try:\n",
    "        opener = urllib.request.urlopen(url).read() \n",
    "        soup = BeautifulSoup(opener, 'lxml') \n",
    "        #print(soup)\n",
    "      \n",
    "        \n",
    "        if(soup.findAll('mailto:')):\n",
    "            return 1\n",
    "        else:\n",
    "            return 0\n",
    "    except:\n",
    "        return 1 #url not found ,phishing\n",
    "        \n",
    "    \n",
    "   \n",
    "    \n",
    "mailto(\"https://google.com\")  "
   ]
  },
  {
   "cell_type": "code",
   "execution_count": 55,
   "id": "47412348",
   "metadata": {},
   "outputs": [
    {
     "data": {
      "text/plain": [
       "0"
      ]
     },
     "execution_count": 55,
     "metadata": {},
     "output_type": "execute_result"
    }
   ],
   "source": [
    "def register(url):\n",
    "    SubDom, Dom, Suffix = extract(url)\n",
    "    \n",
    "   \n",
    "    c= Dom+\".\" + Suffix\n",
    "    #print(c)\n",
    "   # c=c.replace(\"www.\",\"\")\n",
    "    #print(c)\n",
    "    try:\n",
    "        whois.whois(c)\n",
    "        return 0\n",
    "    except:\n",
    "        #print(\"error register\")\n",
    "        return 1\n",
    "    \n",
    "        \n",
    "register(\"https://google.com\")   "
   ]
  },
  {
   "cell_type": "code",
   "execution_count": 56,
   "id": "639565d0",
   "metadata": {},
   "outputs": [],
   "source": [
    "def popup(url):\n",
    "    try:\n",
    "        response=requests.get(url)\n",
    "        \n",
    "        if response==\"\":\n",
    "                return 1\n",
    "        else:\n",
    "             if re.findall(r\"alert\\(\",response.text):\n",
    "                    return 1\n",
    "             else:\n",
    "                    return 0\n",
    "    except:\n",
    "        \n",
    "        return 1\n",
    "    \n"
   ]
  },
  {
   "cell_type": "code",
   "execution_count": 57,
   "id": "673b5068",
   "metadata": {},
   "outputs": [
    {
     "data": {
      "text/plain": [
       "0"
      ]
     },
     "execution_count": 57,
     "metadata": {},
     "output_type": "execute_result"
    }
   ],
   "source": [
    "import dns.resolver\n",
    "# Finding A record\n",
    "def dnss(url):\n",
    "    SubDom, Dom, Suffix = extract(url)\n",
    "    #print(Dom)\n",
    "    c=Dom+\".\" + Suffix\n",
    "    try:\n",
    "        result = dns.resolver.resolve(c, 'A')\n",
    "        return 0\n",
    "    except:\n",
    "        return 1\n",
    "      \n",
    "\n",
    "  \n",
    "# Printing record\n",
    "dnss(\"https://www.geeksforgeeks.org\")\n"
   ]
  },
  {
   "cell_type": "code",
   "execution_count": 58,
   "id": "5e0d7bc2",
   "metadata": {},
   "outputs": [],
   "source": [
    "def sfh(u):\n",
    "    try:\n",
    "        programhtml = requests.get(u).text\n",
    "        s = BeautifulSoup(programhtml,\"lxml\")\n",
    "    \n",
    "        f = str(s.form)\n",
    "        ac = f.find(\"action\")\n",
    "        if(ac!=-1):\n",
    "            i1 = f[ac:].find(\">\")\n",
    "            u1 = f[ac+8:i1-1]\n",
    "            if(u1==\"\" or u1==\"about:blank\"):\n",
    "                return -1\n",
    "            er1 = extract(u)\n",
    "            upage = er1.domain\n",
    "            erl2 = extract(u1)\n",
    "            usfh = erl2.domain\n",
    "            if upage in usfh:\n",
    "                return 1\n",
    "            return 0\n",
    "        else:\n",
    "           \n",
    "            return 1\n",
    "    except:\n",
    "        \n",
    "        return 1"
   ]
  },
  {
   "cell_type": "code",
   "execution_count": 59,
   "id": "38c72144",
   "metadata": {},
   "outputs": [],
   "source": [
    "def forwarding(url):\n",
    "    try:\n",
    "        \n",
    "        response=requests.get(url)\n",
    "        #print(response.history)\n",
    "        if response == \"\":\n",
    "             return 1\n",
    "        else:\n",
    "            #print(response.history)\n",
    "            if len(response.history) <= 2:\n",
    "                return 0\n",
    "            else:\n",
    "                return 1\n",
    "    except:\n",
    "        \n",
    "        return 1\n",
    "  "
   ]
  },
  {
   "cell_type": "code",
   "execution_count": 60,
   "id": "3fef5f6a",
   "metadata": {},
   "outputs": [
    {
     "data": {
      "text/plain": [
       "0"
      ]
     },
     "execution_count": 60,
     "metadata": {},
     "output_type": "execute_result"
    }
   ],
   "source": [
    "def havingIp(url):\n",
    "    z=[]\n",
    "    domain = urlparse(ii).netloc\n",
    "    #print(domain)\n",
    "    \n",
    "   \n",
    "    \n",
    "    try:\n",
    "        ipaddress.ip_address(domain)\n",
    "      \n",
    "        ip = 1\n",
    "    except:\n",
    "\n",
    "        \n",
    "        ip = 0\n",
    "    return ip\n",
    "\n",
    "ii=\"https://super1000.info/docs\";\n",
    "havingIp(ii)"
   ]
  },
  {
   "cell_type": "code",
   "execution_count": 61,
   "id": "b6cdfce9",
   "metadata": {},
   "outputs": [
    {
     "data": {
      "text/plain": [
       "0"
      ]
     },
     "execution_count": 61,
     "metadata": {},
     "output_type": "execute_result"
    }
   ],
   "source": [
    "#rank of the url  --10\n",
    "import urllib\n",
    "import html5lib\n",
    "from xml.etree import ElementTree\n",
    "import xmltodict\n",
    "\n",
    "def web_traffic(url):\n",
    "   \n",
    "        \n",
    "    try:\n",
    "        url = urllib.parse.quote(url)\n",
    "       \n",
    "        rank = BeautifulSoup(urllib.request.urlopen(\"http://data.alexa.com/data?cli=10&dat=s&url=\" + url).read(), \"xml\")\n",
    "    \n",
    "        #print(rank)\n",
    "        x=rank.find(\"REACH\")[\"RANK\"]\n",
    "        \n",
    "        \n",
    "        \n",
    "        if int(x)<100000:\n",
    "             \n",
    "             return 0\n",
    "        else:\n",
    "             #print(\"phi\")\n",
    "             return 1 #phishing\n",
    "    except:\n",
    "        \n",
    "        return 1\n",
    "       # rank=rank.find[\"REACH\"]['RANK']\n",
    "web_traffic(\"https://google.com\")"
   ]
  },
  {
   "cell_type": "code",
   "execution_count": 6,
   "id": "9244ff3e",
   "metadata": {},
   "outputs": [
    {
     "name": "stdout",
     "output_type": "stream",
     "text": [
      "Empty DataFrame\n",
      "Columns: [rightclick, Label]\n",
      "Index: []\n"
     ]
    }
   ],
   "source": [
    "feature_names = [ 'rightclick','Label']\n",
    "\n",
    "df1 = pd.DataFrame(extracted_features, columns= feature_names)\n",
    "print(df1)\n"
   ]
  },
  {
   "cell_type": "code",
   "execution_count": 7,
   "id": "3ee734f1",
   "metadata": {},
   "outputs": [],
   "source": [
    "df1.to_csv('df1p.csv', index= False)"
   ]
  },
  {
   "cell_type": "code",
   "execution_count": 30,
   "id": "7abe1663",
   "metadata": {},
   "outputs": [
    {
     "name": "stdout",
     "output_type": "stream",
     "text": [
      "   domain_age  having IP  having_@  lebgth_of_url  redirection_//  httpdomain  \\\n",
      "0           1          0         0              0               0           0   \n",
      "1           0          0         0              1               0           0   \n",
      "2           0          0         0              0               0           0   \n",
      "3           0          0         0              1               0           0   \n",
      "4           0          0         0              1               0           0   \n",
      "\n",
      "   shortUrl  prefixsuffix  dots  dns recored  register  iframe  rightClick  \\\n",
      "0         0             0     0            1         0       1           1   \n",
      "1         0             0     0            0         0       1           0   \n",
      "2         0             0     0            1         0       1           1   \n",
      "3         0             0     0            0         0       1           0   \n",
      "4         0             0     0            0         0       1           1   \n",
      "\n",
      "   popup  forwarding  sfh  url_of_anchor  mailto  web_traffic  label  \n",
      "0      1           1    1              1       1            1      1  \n",
      "1      0           0    1              1       1            1      1  \n",
      "2      1           1    1              1       1            1      1  \n",
      "3      0           0    1              1       1            0      1  \n",
      "4      1           1    1              1       1            1      1  \n"
     ]
    }
   ],
   "source": [
    "#model\n",
    "from sklearn.model_selection import train_test_split\n",
    "import pandas as pd\n",
    " \n",
    "df=pd.read_csv(r\"D:\\academics\\ISM\\final_dataset1.csv\")\n",
    "print(df.head(5))\n",
    "y = df['label']\n",
    "\n",
    "\n",
    "X = df.drop(['label'],axis=1)\n",
    "\n",
    "\n",
    "\n",
    "X_train, X_test, y_train, y_test = train_test_split(X,y,test_size=0.2,random_state = 42 )\n"
   ]
  },
  {
   "cell_type": "code",
   "execution_count": 31,
   "id": "f1e4126b",
   "metadata": {},
   "outputs": [
    {
     "name": "stdout",
     "output_type": "stream",
     "text": [
      "       domain_age  having IP  having_@  lebgth_of_url  redirection_//  \\\n",
      "0               1          0         0              0               0   \n",
      "1               0          0         0              1               0   \n",
      "2               0          0         0              0               0   \n",
      "3               0          0         0              1               0   \n",
      "4               0          0         0              1               0   \n",
      "...           ...        ...       ...            ...             ...   \n",
      "19995           0          0         0              0               0   \n",
      "19996           0          0         0              0               0   \n",
      "19997           1          0         0              0               0   \n",
      "19998           0          0         0              0               0   \n",
      "19999           0          0         0              0               0   \n",
      "\n",
      "       httpdomain  shortUrl  prefixsuffix  dots  dns recored  register  \\\n",
      "0               0         0             0     0            1         0   \n",
      "1               0         0             0     0            0         0   \n",
      "2               0         0             0     0            1         0   \n",
      "3               0         0             0     0            0         0   \n",
      "4               0         0             0     0            0         0   \n",
      "...           ...       ...           ...   ...          ...       ...   \n",
      "19995           0         0             0     0            0         0   \n",
      "19996           0         0             0     0            0         0   \n",
      "19997           0         0             0     0            0         0   \n",
      "19998           0         0             0     0            0         0   \n",
      "19999           0         0             0     0            0         0   \n",
      "\n",
      "       iframe  rightClick  popup  forwarding  sfh  url_of_anchor  mailto  \\\n",
      "0           1           1      1           1    1              1       1   \n",
      "1           1           0      0           0    1              1       1   \n",
      "2           1           1      1           1    1              1       1   \n",
      "3           1           0      0           0    1              1       1   \n",
      "4           1           1      1           1    1              1       1   \n",
      "...       ...         ...    ...         ...  ...            ...     ...   \n",
      "19995       0           0      0           0    1              0       1   \n",
      "19996       0           0      0           0    1              0       1   \n",
      "19997       0           0      0           0    1              0       1   \n",
      "19998       0           0      0           0    1              0       1   \n",
      "19999       0           0      0           0    1              0       0   \n",
      "\n",
      "       web_traffic  \n",
      "0                1  \n",
      "1                1  \n",
      "2                1  \n",
      "3                0  \n",
      "4                1  \n",
      "...            ...  \n",
      "19995            0  \n",
      "19996            0  \n",
      "19997            0  \n",
      "19998            0  \n",
      "19999            0  \n",
      "\n",
      "[20000 rows x 19 columns]\n"
     ]
    }
   ],
   "source": [
    "print(X)"
   ]
  },
  {
   "cell_type": "code",
   "execution_count": 32,
   "id": "5a1cb81a",
   "metadata": {},
   "outputs": [
    {
     "name": "stdout",
     "output_type": "stream",
     "text": [
      "Training Score: 0.8579375\n",
      "Testing Score: 0.85225\n"
     ]
    },
    {
     "data": {
      "image/png": "[encoded data removed]",
      "text/plain": [
       "<Figure size 432x288 with 1 Axes>"
      ]
     },
     "metadata": {
      "needs_background": "light"
     },
     "output_type": "display_data"
    }
   ],
   "source": [
    "from sklearn.ensemble import RandomForestClassifier\n",
    "from matplotlib import pyplot as plt\n",
    "#random forest\n",
    "rfc = RandomForestClassifier(n_estimators = 2400,criterion='gini', random_state=42)\n",
    "rfc.fit(X_train, y_train)\n",
    "\n",
    "y_pred = rfc.predict(X_test)\n",
    "#print(preds)\n",
    "print(f'Training Score: {rfc.score(X_train, y_train)}')\n",
    "print(f'Testing Score: {rfc.score(X_test, y_test)}')\n",
    "from sklearn.metrics import accuracy_score\n",
    "\n",
    "from sklearn.metrics import precision_recall_curve\n",
    "precision, recall, thresholds = precision_recall_curve(y_test,y_pred )\n",
    "\n",
    "#create precision recall curve\n",
    "fig, ax = plt.subplots()\n",
    "ax.plot(recall, precision, color='purple')\n",
    "\n",
    "#add axis labels to plot\n",
    "ax.set_title('Precision-Recall Curve')\n",
    "ax.set_ylabel('Precision')\n",
    "ax.set_xlabel('Recall')\n",
    "\n",
    "#display plot\n",
    "plt.show()"
   ]
  },
  {
   "cell_type": "code",
   "execution_count": 33,
   "id": "462250c4",
   "metadata": {},
   "outputs": [
    {
     "name": "stdout",
     "output_type": "stream",
     "text": [
      "DecisionTreeClassifier(random_state=42) Training Score: 0.8579375\n",
      "DecisionTreeClassifier(random_state=42) Testing Score: 0.851\n"
     ]
    },
    {
     "data": {
      "image/png": "[encoded data removed]",
      "text/plain": [
       "<Figure size 432x288 with 1 Axes>"
      ]
     },
     "metadata": {
      "needs_background": "light"
     },
     "output_type": "display_data"
    }
   ],
   "source": [
    "#decision tree\n",
    "from sklearn.tree import DecisionTreeClassifier\n",
    "model =DecisionTreeClassifier(random_state=42)\n",
    "    \n",
    "    # fit to data\n",
    "model.fit(X_train, y_train)\n",
    "    \n",
    "    \n",
    "y_pred = model.predict(X_test)\n",
    "\n",
    "   \n",
    "print(f'{model} Training Score: {model.score(X_train, y_train)}')\n",
    "print(f'{model} Testing Score: {model.score(X_test, y_test)}')\n",
    "\n",
    "\n",
    "\n",
    "from sklearn.metrics import precision_recall_curve\n",
    "precision, recall, thresholds = precision_recall_curve(y_test,y_pred )\n",
    "\n",
    "#create precision recall curve\n",
    "fig, ax = plt.subplots()\n",
    "ax.plot(recall, precision, color='purple')\n",
    "\n",
    "#add axis labels to plot\n",
    "ax.set_title('Precision-Recall Curve')\n",
    "ax.set_ylabel('Precision')\n",
    "ax.set_xlabel('Recall')\n",
    "\n",
    "#display plot\n",
    "plt.show()"
   ]
  },
  {
   "cell_type": "code",
   "execution_count": 34,
   "id": "2865947c",
   "metadata": {},
   "outputs": [
    {
     "name": "stdout",
     "output_type": "stream",
     "text": [
      "LogisticRegression() Training Score: 0.7675625\n",
      "LogisticRegression() Testing Score: 0.769\n"
     ]
    }
   ],
   "source": [
    "from sklearn.linear_model import LogisticRegression, LinearRegression\n",
    "model =LogisticRegression()\n",
    "    \n",
    "    # fit to data\n",
    "model.fit(X_train, y_train)\n",
    "    \n",
    "    # make predictions\n",
    "preds = model.predict(X_test)\n",
    "\n",
    "    # print results\n",
    "print(f'{model} Training Score: {model.score(X_train, y_train)}')\n",
    "print(f'{model} Testing Score: {model.score(X_test, y_test)}')\n",
    "\n",
    "\n"
   ]
  },
  {
   "cell_type": "code",
   "execution_count": 35,
   "id": "ab457679",
   "metadata": {},
   "outputs": [
    {
     "name": "stdout",
     "output_type": "stream",
     "text": [
      "LinearRegression() Training Score: 0.4013079100938327\n",
      "LinearRegression() Testing Score: 0.3983635017875927\n"
     ]
    }
   ],
   "source": [
    "model =LinearRegression()\n",
    "    \n",
    "    # fit to data\n",
    "model.fit(X_train, y_train)\n",
    "    \n",
    "    # make predictions\n",
    "preds = model.predict(X_test)\n",
    "\n",
    "    # print results\n",
    "print(f'{model} Training Score: {model.score(X_train, y_train)}')\n",
    "print(f'{model} Testing Score: {model.score(X_test, y_test)}')\n"
   ]
  },
  {
   "cell_type": "code",
   "execution_count": 36,
   "id": "871f578e",
   "metadata": {},
   "outputs": [
    {
     "name": "stdout",
     "output_type": "stream",
     "text": [
      "Training Score: 0.7733125\n",
      "Testing Score: 0.77975\n"
     ]
    },
    {
     "data": {
      "image/png": "[encoded data removed]",
      "text/plain": [
       "<Figure size 432x288 with 1 Axes>"
      ]
     },
     "metadata": {
      "needs_background": "light"
     },
     "output_type": "display_data"
    }
   ],
   "source": [
    "from sklearn.svm import SVC\n",
    "\n",
    "# kernel to be set linear as it is binary class\n",
    "classifier = SVC(kernel='linear')\n",
    "\n",
    "# traininf the model\n",
    "classifier.fit(X_train, y_train)\n",
    "y_pred = classifier.predict(X_test)\n",
    "from sklearn.metrics import accuracy_score\n",
    "\n",
    "\n",
    "print(f'Training Score: {classifier.score(X_train, y_train)}')\n",
    "print(f'Testing Score: {classifier.score(X_test, y_test)}')\n",
    "\n",
    "\n",
    "from sklearn.metrics import precision_recall_curve\n",
    "precision, recall, thresholds = precision_recall_curve(y_test,y_pred )\n",
    "\n",
    "#create precision recall curve\n",
    "fig, ax = plt.subplots()\n",
    "ax.plot(recall, precision, color='purple')\n",
    "\n",
    "#add axis labels to plot\n",
    "ax.set_title('Precision-Recall Curve')\n",
    "ax.set_ylabel('Precision')\n",
    "ax.set_xlabel('Recall')\n",
    "\n",
    "#display plot\n",
    "plt.show()"
   ]
  },
  {
   "cell_type": "code",
   "execution_count": 37,
   "id": "df10d87b",
   "metadata": {},
   "outputs": [
    {
     "name": "stdout",
     "output_type": "stream",
     "text": [
      "accuracy score for training data 0.8530625\n",
      "accuracy score for testing data 0.8485\n"
     ]
    },
    {
     "data": {
      "image/png": "[encoded data removed]",
      "text/plain": [
       "<Figure size 432x288 with 1 Axes>"
      ]
     },
     "metadata": {
      "needs_background": "light"
     },
     "output_type": "display_data"
    }
   ],
   "source": [
    "from sklearn.neural_network import MLPClassifier\n",
    "from sklearn.metrics import confusion_matrix\n",
    "m1 = MLPClassifier(hidden_layer_sizes=(9, 12, 10, 15), activation='relu', solver='adam', max_iter=2000)\n",
    "m1.fit(X_train, y_train)\n",
    "y_pred = m1.predict(X_test)\n",
    "#print(\"confusion matrix:\",confusion_matrix(y_test,predicted_values))\n",
    "print(\"accuracy score for training data\",m1.score(X_train,y_train))\n",
    "print(\"accuracy score for testing data\",m1.score(X_test,y_test))\n",
    "\n",
    "\n",
    "from sklearn.metrics import precision_recall_curve\n",
    "precision, recall, thresholds = precision_recall_curve(y_test,y_pred )\n",
    "\n",
    "#create precision recall curve\n",
    "fig, ax = plt.subplots()\n",
    "ax.plot(recall, precision, color='purple')\n",
    "\n",
    "#add axis labels to plot\n",
    "ax.set_title('Precision-Recall Curve')\n",
    "ax.set_ylabel('Precision')\n",
    "ax.set_xlabel('Recall')\n",
    "\n",
    "#display plot\n",
    "plt.show()"
   ]
  },
  {
   "cell_type": "code",
   "execution_count": 38,
   "id": "cee2ed73",
   "metadata": {},
   "outputs": [
    {
     "name": "stdout",
     "output_type": "stream",
     "text": [
      "Hard Voting Score 0.85375\n",
      "confusion matrix\n",
      " [[1720  261]\n",
      " [ 324 1695]]\n"
     ]
    }
   ],
   "source": [
    "#hybrid ensemble  model\n",
    "from sklearn.ensemble import VotingClassifier\n",
    "estimator = []\n",
    "estimator.append(('MLP1',MLPClassifier(hidden_layer_sizes=(9, 12, 10, 15), activation='relu', solver='adam', max_iter=2000)))\n",
    "estimator.append(('MLP2',MLPClassifier(hidden_layer_sizes=(9, 12, 10, 15), activation='relu', solver='adam', max_iter=2000)))\n",
    "estimator.append(('MLP3',MLPClassifier(hidden_layer_sizes=(9, 12, 10, 15), activation='relu', solver='adam', max_iter=2000)))\n",
    "estimator.append(('MLP4',MLPClassifier(hidden_layer_sizes=(9, 12, 10, 15), activation='relu', solver='adam', max_iter=2000)))\n",
    "estimator.append(('SVC', SVC(gamma ='auto', probability = True)))\n",
    "estimator.append(('SVC1', SVC(gamma ='auto', probability = True)))\n",
    "estimator.append(('SVC2', SVC(gamma ='auto', probability = True)))\n",
    "estimator.append(('SVC3', SVC(gamma ='auto', probability = True)))\n",
    "estimator.append(('DTC', DecisionTreeClassifier(criterion='gini',random_state=42)))\n",
    "estimator.append(('DTC1', DecisionTreeClassifier(criterion='gini',random_state=42)))\n",
    "estimator.append(('DTC2', DecisionTreeClassifier(criterion='gini',random_state=42)))\n",
    "estimator.append(('DTC3', DecisionTreeClassifier(criterion='gini',random_state=42)))\n",
    "estimator.append(('DTC4', DecisionTreeClassifier(criterion='gini',random_state=42)))\n",
    "estimator.append(('RFC', RandomForestClassifier(n_estimators = 1400,criterion='gini', random_state=42)))\n",
    "estimator.append(('RFC1', RandomForestClassifier(n_estimators = 1400,criterion='gini', random_state=42)))\n",
    "estimator.append(('RFC2', RandomForestClassifier(n_estimators = 1400,criterion='gini', random_state=42)))\n",
    "estimator.append(('RFC3', RandomForestClassifier(n_estimators = 1400,criterion='gini', random_state=42)))\n",
    "estimator.append(('RFC4', RandomForestClassifier(n_estimators = 1400,criterion='gini', random_state=42)))\n",
    "\n",
    "vot_hard = VotingClassifier(estimators = estimator, voting ='hard')\n",
    "vot_hard.fit(X_train, y_train)\n",
    "y_pred = vot_hard.predict(X_test)\n",
    "\n",
    "# using accuracy_score metric to predict accuracy\n",
    "score = accuracy_score(y_test, y_pred)\n",
    "print(\"Hard Voting Score\",score)\n",
    "\n",
    "#confusion matrix\n",
    "from sklearn import metrics\n",
    "cm=metrics.confusion_matrix(y_test, y_pred)\n",
    "print(\"confusion matrix\\n\",cm)"
   ]
  },
  {
   "cell_type": "code",
   "execution_count": 39,
   "id": "d337d6f4",
   "metadata": {},
   "outputs": [
    {
     "name": "stdout",
     "output_type": "stream",
     "text": [
      "precision score is : 0.87\n",
      "Recall score is : 0.84\n",
      "F1 score is :  0.85\n",
      "Mean squared error is : 0.15\n",
      "Root Mean squared error is : 0.38\n"
     ]
    }
   ],
   "source": [
    "from sklearn.metrics import mean_squared_error\n",
    "from math import sqrt\n",
    "#precision\n",
    "print(\"precision score is :\",round(metrics.precision_score(y_test, y_pred),2))\n",
    "\n",
    "#recall\n",
    "print(\"Recall score is :\",round(metrics.recall_score(y_test, y_pred),2))\n",
    "\n",
    "precision = metrics.precision_score(y_test, y_pred)\n",
    "recall=metrics.recall_score(y_test, y_pred)\n",
    "\n",
    "#f1 score\n",
    "F1 = 2 * (precision * recall) / (precision + recall)\n",
    "\n",
    "print(\"F1 score is : \",round(F1,2))\n",
    "\n",
    "#mse\n",
    "print(\"Mean squared error is :\",round(mean_squared_error(y_test,y_pred),2))\n",
    "\n",
    "#rmse\n",
    "print(\"Root Mean squared error is :\",round(sqrt(mean_squared_error(y_test,y_pred)),2))"
   ]
  },
  {
   "cell_type": "code",
   "execution_count": 40,
   "id": "20a290d0",
   "metadata": {},
   "outputs": [
    {
     "data": {
      "image/png": "[encoded data removed]",
      "text/plain": [
       "<Figure size 432x288 with 2 Axes>"
      ]
     },
     "metadata": {
      "needs_background": "light"
     },
     "output_type": "display_data"
    }
   ],
   "source": [
    "from sklearn.metrics import ConfusionMatrixDisplay\n",
    "import matplotlib.pyplot as plt\n",
    "cmd_obj = ConfusionMatrixDisplay(cm, display_labels=['0 (legitimate)', '1 (phishing)'])\n",
    "cmd_obj.plot()\n",
    "\n",
    "cmd_obj.ax_.set(\n",
    "                title='Confusion Matrix', \n",
    "                xlabel='Predicted', \n",
    "                ylabel='Actual')\n",
    "\n",
    "plt.show()"
   ]
  },
  {
   "cell_type": "code",
   "execution_count": null,
   "id": "3b9fb681",
   "metadata": {},
   "outputs": [],
   "source": [
    "features=[]\n",
    "extracted_features=[]\n",
    "url=input(\"Enter url : \" )\n",
    "\n",
    "features.append(domainage(\"https://\"+url))\n",
    "features.append(havingIp(\"https://\"+url))   \n",
    "features.append(haveAtSign(\"https://\"+url))  \n",
    "features.append(getLength(\"https://\"+url)) \n",
    "features.append(redirection(\"https://\"+url))\n",
    "features.append(httpDomain(\"https://\"+url))\n",
    "features.append(tinyURL(\"https://\"+url))\n",
    "features.append(prefixSuffix(\"https://\"+url))\n",
    "features.append(dots(\"https://\"+url))\n",
    "features.append(dnss(\"https://\"+url))\n",
    "features.append(register(\"https://\"+url))\n",
    "features.append(iframe(\"https://\"+url))\n",
    "features.append(rightClick(\"https://\"+url))\n",
    "features.append(popup(\"https://\"+url))\n",
    "features.append(forwarding(\"https://\"+url))\n",
    "features.append(sfh(\"https://\"+url))\n",
    "features.append(url_of_anchor(\"https://\"+url))   \n",
    "features.append(mailto(\"https://\"+url)) \n",
    "features.append(web_traffic(\"https://\"+url))\n",
    "extracted_features.append(features)\n",
    "preds = vot_hard.predict(extracted_features)\n",
    "if(preds==0):\n",
    "    print(\"legitimate\")\n",
    "else:\n",
    "    print(\"malicious url\")"
   ]
  },
  {
   "cell_type": "code",
   "execution_count": null,
   "id": "7ca3c438",
   "metadata": {},
   "outputs": [],
   "source": [
    "print(extracted_features)\n",
    "preds = vot_hard.predict(X_test)\n",
    "preds"
   ]
  },
  {
   "cell_type": "code",
   "execution_count": null,
   "id": "87549a98",
   "metadata": {},
   "outputs": [],
   "source": [
    "X_test"
   ]
  },
  {
   "cell_type": "code",
   "execution_count": null,
   "id": "860efb7a",
   "metadata": {},
   "outputs": [],
   "source": [
    "# Importing the required libraries\n",
    "from matplotlib import pyplot as plt\n",
    "\n",
    "# Preparing the data to plot\n",
    "models = ['Multilayer \\nperceptron', '    Super vector\\n machine', '    Decision tree','         Random \\nforest','            Proposed model']\n",
    "score = [84.9,77.9,85.1,85.2,85.375]\n",
    "\n",
    "\n",
    "# Creating a simple bar chart\n",
    "plt.bar(models, score, width=0.2, bottom=0, align='edge')\n",
    "\n",
    "plt.title('Accuracy score in different model')\n",
    "plt.xlabel('Models', fontsize=15)\n",
    "plt.ylabel('Score in %', fontsize=15)\n",
    "plt.show()\n",
    "\n",
    "\n"
   ]
  },
  {
   "cell_type": "code",
   "execution_count": null,
   "id": "1b6a69f6",
   "metadata": {},
   "outputs": [],
   "source": [
    "# Importing the required libraries\n",
    "from matplotlib import pyplot as plt\n",
    "\n",
    "# Preparing the data to plot\n",
    "blogs = ['Malicious URL','Legitimate URL']\n",
    "posts = [10000,10000]\n",
    "\n",
    "\n",
    "# Creating a simple bar chart\n",
    "plt.bar(blogs, posts, width=0.4, bottom=60, align='edge',color=[ 'red', 'green'])\n",
    "\n",
    "\n",
    "plt.xlabel('Types of URL', fontsize=15)\n",
    "plt.ylabel('Number of URLs', fontsize=15)\n",
    "plt.show()\n",
    "\n",
    "\n"
   ]
  },
  {
   "cell_type": "code",
   "execution_count": null,
   "id": "f8b5db84",
   "metadata": {},
   "outputs": [],
   "source": [
    "\n",
    "from sklearn.metrics import precision_recall_curve\n",
    "precision, recall, thresholds = precision_recall_curve(y_test,y_pred )\n",
    "\n",
    "#create precision recall curve\n",
    "fig, ax = plt.subplots()\n",
    "ax.plot(recall, precision, color='purple')\n",
    "\n",
    "#add axis labels to plot\n",
    "ax.set_title('Precision-Recall Curve')\n",
    "ax.set_ylabel('Precision')\n",
    "ax.set_xlabel('Recall')\n",
    "\n",
    "#display plot\n",
    "plt.show()"
   ]
  }
 ],
 "metadata": {
  "kernelspec": {
   "display_name": "Python 3 (ipykernel)",
   "language": "python",
   "name": "python3"
  },
  "language_info": {
   "codemirror_mode": {
    "name": "ipython",
    "version": 3
   },
   "file_extension": ".py",
   "mimetype": "text/x-python",
   "name": "python",
   "nbconvert_exporter": "python",
   "pygments_lexer": "ipython3",
   "version": "3.9.7"
  }
 },
 "nbformat": 4,
 "nbformat_minor": 5
}
